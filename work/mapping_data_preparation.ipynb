{
 "cells": [
  {
   "cell_type": "markdown",
   "id": "5e6f9602",
   "metadata": {},
   "source": [
    "## マッピング用データの準備\n",
    "- e-Statのシェープファイルをダウンロード（都道府県ごと）\n",
    "- 可視化する地図データを1つに統合"
   ]
  },
  {
   "cell_type": "code",
   "execution_count": 1,
   "id": "993ed2ba",
   "metadata": {},
   "outputs": [],
   "source": [
    "# インポート\n",
    "from urllib.request import urlretrieve\n",
    "import zipfile\n",
    "import geopandas as gpd\n",
    "import pandas as pd\n",
    "import numpy as np\n",
    "import os\n",
    "import warnings\n",
    "warnings.filterwarnings('ignore')\n",
    "pd.set_option('display.max_columns', 200)"
   ]
  },
  {
   "cell_type": "code",
   "execution_count": 2,
   "id": "0efc167b",
   "metadata": {},
   "outputs": [],
   "source": [
    "def creating_mapping_df(data_info): \n",
    "    'シェープファイルをダウンロードし、データフレームとして読み込む関数'\n",
    "    # 展開先フォルダ名\n",
    "    input_path = data_info[0]\n",
    "    os.makedirs(input_path, exist_ok = True)\n",
    "    # R2年 e-stat 国勢調査 小地域（町丁・字等別）\n",
    "    shapefile_url = data_info[1]\n",
    "    shapefile_name = data_info[2]\n",
    "    # ダウンロード\n",
    "    urlretrieve(url = shapefile_url, filename = shapefile_name)\n",
    "    # 解凍\n",
    "    with zipfile.ZipFile(shapefile_name) as existing_zip:\n",
    "        existing_zip.extractall(input_path)\n",
    "    # zipファイルの削除\n",
    "    os.remove(shapefile_name)\n",
    "    # ファイル名を取得\n",
    "    files = os.listdir(input_path)\n",
    "    shapefile = [file for file in files if \".shp\" in file][0]\n",
    "\n",
    "    # 読み込み\n",
    "    shapefile_path = os.path.join(input_path, shapefile)\n",
    "    df = gpd.read_file(shapefile_path, encoding = 'cp932')\n",
    "    # 東京都の島嶼部を除く\n",
    "#     islands = ['大島町', '利島村', '新島村', '神津島村', '三宅村', '御蔵島村', '八丈町', '青ヶ島村', '小笠原村']\n",
    "#     is_not_islands = [df[\"CITY_NAME\"] != island for island in islands]\n",
    "#     is_not_islands = pd.concat(is_not_islands, axis = 1).all(axis = 1)\n",
    "#     df = df.loc[is_not_islands, :]\n",
    "    # 陸地だけにする\n",
    "    df = df.loc[df[\"HCODE\"] == 8101, :]\n",
    "\n",
    "    return df\n",
    "\n",
    "def data_acquisition_and_merging(data_info_list):\n",
    "    '複数の緯度経度データのダウンロード・読み込みを行い、1つのデータフレームにまとめる関数'\n",
    "    # 結合前の各都県の緯度経度データフレーム格納先\n",
    "    df_list = []\n",
    "    for data_info in data_info_list:\n",
    "        # データフレーム生成用のリストに追加\n",
    "        df = creating_mapping_df(data_info) \n",
    "        df_list.append(df)\n",
    "    # 結合\n",
    "    df = pd.concat(df_list, axis = 0, sort = False, ignore_index = True)\n",
    "    \n",
    "    return df\n",
    "\n",
    "def preprocessing_mapping_df(df):\n",
    "    '読み込んだマッピング用データフレームに対する前処理関数'\n",
    "#     # S_NAMEの漢数字を数字に修正\n",
    "#     address_rename_dict = {'一丁目': '１丁目', '二丁目': '２丁目', '三丁目': '３丁目', '四丁目': '４丁目', '五丁目': '５丁目', '六丁目': '６丁目',\n",
    "#                    '七丁目': '７丁目', '八丁目': '８丁目', '九丁目': '９丁目', '十丁目': '１０丁目', '十一丁目': '１１丁目', '十二丁目': '１２丁目'}\n",
    "#     for before, after in address_rename_dict.items():\n",
    "#         df['S_NAME'] = df['S_NAME'].str.replace(before, after)\n",
    "    # CITY_NAMEやS_NAMEがnullの場所は小地域でない住所（市町村や都道府県しかデータが入っていない場所）のため削除\n",
    "    df = df.dropna(axis = 0, subset = ['CITY_NAME', 'S_NAME'])\n",
    "    # クラスタリング結果とのテーブル結合に使う列（住所）を用意\n",
    "    df['住所'] = df['PREF_NAME'] + df['CITY_NAME'] + df['S_NAME']\n",
    "    \n",
    "    return df"
   ]
  },
  {
   "cell_type": "code",
   "execution_count": 4,
   "id": "f8e70e06",
   "metadata": {},
   "outputs": [],
   "source": [
    "# シェープファイル保存先・DL元のURL・保存ファイル名のリスト\n",
    "dl_shapefile_path = '../output/data_preprocessed/e-stat/shapefile/'\n",
    "mapping_data_2020 = [\n",
    "    [dl_shapefile_path + \"shapefile_shiga_2020\", \"https://www.e-stat.go.jp/gis/statmap-search/data?dlserveyId=A002005212020&code=25&coordSys=1&format=shape&downloadType=5&datum=2011\", \"shiga_map_2020.zip\"],\n",
    "    [dl_shapefile_path + \"shapefile_kyoto_2020\", \"https://www.e-stat.go.jp/gis/statmap-search/data?dlserveyId=A002005212020&code=26&coordSys=1&format=shape&downloadType=5&datum=2011\", \"kyoto_map_2020.zip\"],\n",
    "    [dl_shapefile_path + \"shapefile_osaka_2020\", \"https://www.e-stat.go.jp/gis/statmap-search/data?dlserveyId=A002005212020&code=27&coordSys=1&format=shape&downloadType=5&datum=2011\", \"osaka_map_2020.zip\"],\n",
    "    [dl_shapefile_path + \"shapefile_hyogo_2020\", \"https://www.e-stat.go.jp/gis/statmap-search/data?dlserveyId=A002005212020&code=28&coordSys=1&format=shape&downloadType=5&datum=2011\", \"hyogo_map_2020.zip\"],\n",
    "    [dl_shapefile_path + \"shapefile_nara_2020\", \"https://www.e-stat.go.jp/gis/statmap-search/data?dlserveyId=A002005212020&code=29&coordSys=1&format=shape&downloadType=5&datum=2011\", \"nara_map_2020.zip\"],\n",
    "    [dl_shapefile_path + \"shapefile_wakayama_2020\", \"https://www.e-stat.go.jp/gis/statmap-search/data?dlserveyId=A002005212020&code=30&coordSys=1&format=shape&downloadType=5&datum=2011\", \"wakayama_map_2020.zip\"]\n",
    "]\n",
    "\n",
    "# 緯度経度データ取得・1つのデータフレームにまとめる\n",
    "df_mapping_pre = data_acquisition_and_merging(mapping_data_2020)\n",
    "# 前処理\n",
    "df_mapping = preprocessing_mapping_df(df_mapping_pre)\n",
    "# シェープファイルとして保存\n",
    "shapefile_output_path = '../output/data_preprocessed/e-stat/shapefile/'\n",
    "os.makedirs(shapefile_output_path, exist_ok = True)\n",
    "df_mapping.to_file(shapefile_output_path + 'df_mapping_2020.shp', index = False, encoding = 'cp932')"
   ]
  },
  {
   "cell_type": "code",
   "execution_count": null,
   "id": "f2c5f485",
   "metadata": {},
   "outputs": [],
   "source": []
  }
 ],
 "metadata": {
  "kernelspec": {
   "display_name": "Python 3 (ipykernel)",
   "language": "python",
   "name": "python3"
  },
  "language_info": {
   "codemirror_mode": {
    "name": "ipython",
    "version": 3
   },
   "file_extension": ".py",
   "mimetype": "text/x-python",
   "name": "python",
   "nbconvert_exporter": "python",
   "pygments_lexer": "ipython3",
   "version": "3.9.6"
  }
 },
 "nbformat": 4,
 "nbformat_minor": 5
}
